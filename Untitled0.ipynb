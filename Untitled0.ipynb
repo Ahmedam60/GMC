{
  "nbformat": 4,
  "nbformat_minor": 0,
  "metadata": {
    "colab": {
      "name": "Untitled0.ipynb",
      "provenance": []
    },
    "kernelspec": {
      "name": "python3",
      "display_name": "Python 3"
    },
    "language_info": {
      "name": "python"
    }
  },
  "cells": [
    {
      "cell_type": "code",
      "execution_count": 1,
      "metadata": {
        "colab": {
          "base_uri": "https://localhost:8080/"
        },
        "id": "NaIRcBUNhK4v",
        "outputId": "ee9bcfbe-c15a-4d81-df2a-2a711fbe995a"
      },
      "outputs": [
        {
          "output_type": "stream",
          "name": "stdout",
          "text": [
            "welcome Python\n"
          ]
        }
      ],
      "source": [
        "print(\"welcome Python\")"
      ]
    }
  ]
}